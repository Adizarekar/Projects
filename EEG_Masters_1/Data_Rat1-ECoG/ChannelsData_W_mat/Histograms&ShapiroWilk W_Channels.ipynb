version https://git-lfs.github.com/spec/v1
oid sha256:6cb852810ca0d2342b8d3db0ce41d054da0cb494e1b27d6837b7b91ce8ea6671
size 863370
